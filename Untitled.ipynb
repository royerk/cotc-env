{
 "cells": [
  {
   "cell_type": "code",
   "execution_count": null,
   "metadata": {},
   "outputs": [],
   "source": []
  },
  {
   "cell_type": "code",
   "execution_count": 1,
   "metadata": {},
   "outputs": [
    {
     "data": {
      "text/html": [
       "<style>.container { width:100% !important; }</style>"
      ],
      "text/plain": [
       "<IPython.core.display.HTML object>"
      ]
     },
     "metadata": {},
     "output_type": "display_data"
    }
   ],
   "source": [
    "from IPython.core.display import display, HTML\n",
    "display(HTML(\"<style>.container { width:100% !important; }</style>\"))"
   ]
  },
  {
   "cell_type": "code",
   "execution_count": 2,
   "metadata": {},
   "outputs": [],
   "source": [
    "%load_ext autoreload\n",
    "%autoreload 2"
   ]
  },
  {
   "cell_type": "code",
   "execution_count": 20,
   "metadata": {},
   "outputs": [],
   "source": [
    "from cotc_env.envs.state_solo import StateSolo\n",
    "from cotc_env.envs.constants import *\n",
    "from cotc_env.envs.utils import *\n",
    "from cotc_env.envs.cell import Cell"
   ]
  },
  {
   "cell_type": "code",
   "execution_count": 12,
   "metadata": {},
   "outputs": [
    {
     "data": {
      "text/plain": [
       "(24, 7)"
      ]
     },
     "execution_count": 12,
     "metadata": {},
     "output_type": "execute_result"
    }
   ],
   "source": [
    "get_2d_from_axial(19, 4)"
   ]
  },
  {
   "cell_type": "code",
   "execution_count": 21,
   "metadata": {},
   "outputs": [],
   "source": [
    "c = Cell(19, 4)"
   ]
  },
  {
   "cell_type": "code",
   "execution_count": 23,
   "metadata": {},
   "outputs": [
    {
     "data": {
      "text/plain": [
       "'cell, x: 20 y: 3'"
      ]
     },
     "execution_count": 23,
     "metadata": {},
     "output_type": "execute_result"
    }
   ],
   "source": [
    "c.get_front_cell(cap=1).to_string()"
   ]
  },
  {
   "cell_type": "code",
   "execution_count": 27,
   "metadata": {},
   "outputs": [
    {
     "name": "stdout",
     "output_type": "stream",
     "text": [
      "cell, x: 20 y: 3\n",
      "cell, x: 19 y: 4\n",
      "cell, x: 18 y: 5\n"
     ]
    }
   ],
   "source": [
    "for c in state.ship.get_cells():\n",
    "    print(c.to_string())"
   ]
  },
  {
   "cell_type": "code",
   "execution_count": 254,
   "metadata": {},
   "outputs": [
    {
     "name": "stdout",
     "output_type": "stream",
     "text": [
      "Ship, x: -2, y: 8, speed: 0, cap: 3, rum:50\n",
      "                                                          \n",
      "                                                           \n",
      "                                                          \n",
      "       . . . . . . . . . . . . . . . . . . . . . . .       \n",
      "      . . . . . . . . . . . . . r . . . . . . . . .       \n",
      "       . . . . . . . . . . . . . . . . . . . . . . .       \n",
      "      . . . . . . . . . . . . . . . . . . . . . . .       \n",
      "       . . . . . . . . . . . . . . . . . . . . . . .       \n",
      "      . . r m . . . r . . . . . . . . . . . . . . m       \n",
      "       . . . r . . . . . . . . . . . . . . . . . . .       \n",
      "      . . . . . . . . . . . . . . . . . . . . . . .       \n",
      "       . b b b . . . m . . . . . . . . . . . r . . .       \n",
      "      . . . . . . . . . . . . m . . . . . . . . . .       \n",
      "       . . r . . . . . . . . . . . . . . . . . . . .       \n",
      "      . . . . . . . . . . . . m . . . . . . . . . .       \n",
      "       . . . . . . . m . . . . . . . . . . . r . . .       \n",
      "      . . . . . . . . . . . . . . . . . . . . . . .       \n",
      "       . . . r . . . . . . . . . . . . . . . . . . .       \n",
      "      . . r m . . . r . . . . . . . . . . . . . . m       \n",
      "       . . . . . . . . . . . . . . . . . . . . . . .       \n",
      "      . . . . . . . . . . . . . . . . . . . . . . .       \n",
      "       . . . . . . . . . . . . . . . . . . . . . . .       \n",
      "      . . . . . . . . . . . . . r . . . . . . . . .       \n",
      "       . . . . . . . . . . . . . . . . . . . . . . .       \n",
      "                                                          \n",
      "                                                           \n",
      "                                                          \n",
      "\n"
     ]
    }
   ],
   "source": [
    "state = StateSolo()\n",
    "state.show()"
   ]
  },
  {
   "cell_type": "code",
   "execution_count": 258,
   "metadata": {},
   "outputs": [
    {
     "name": "stdout",
     "output_type": "stream",
     "text": [
      "Ship, x: -4, y: 8, speed: 0, cap: 3, rum:46\n",
      "                                                          \n",
      "                                                           \n",
      "                                                          \n",
      "       . . . . . . . . . . . . . . . . . . . . . . .       \n",
      "      . . . . . . . . . . . . . r . . . . . . . . .       \n",
      "       . . . . . . . . . . . . . . . . . . . . . . .       \n",
      "      . . . . . . . . . . . . . . . . . . . . . . .       \n",
      "       . . . . . . . . . . . . . . . . . . . . . . .       \n",
      "      . . r m . . . r . . . . . . . . . . . . . . m       \n",
      "       . . . r . . . . . . . . . . . . . . . . . . .       \n",
      "      . . . . . . . . . . . . . . . . . . . . . . .       \n",
      "     b b b . . . . . m . . . . . . . . . . . r . . .       \n",
      "      . . . . . . . . . . . . m . . . . . . . . . .       \n",
      "       . . r . . . . . . . . . . . . . . . . . . . .       \n",
      "      . . . . . . . . . . . . m . . . . . . . . . .       \n",
      "       . . . . . . . m . . . . . . . . . . . r . . .       \n",
      "      . . . . . . . . . . . . . . . . . . . . . . .       \n",
      "       . . . r . . . . . . . . . . . . . . . . . . .       \n",
      "      . . r m . . . r . . . . . . . . . . . . . . m       \n",
      "       . . . . . . . . . . . . . . . . . . . . . . .       \n",
      "      . . . . . . . . . . . . . . . . . . . . . . .       \n",
      "       . . . . . . . . . . . . . . . . . . . . . . .       \n",
      "      . . . . . . . . . . . . . r . . . . . . . . .       \n",
      "       . . . . . . . . . . . . . . . . . . . . . . .       \n",
      "                                                          \n",
      "                                                           \n",
      "                                                          \n",
      "\n"
     ]
    }
   ],
   "source": [
    "state.apply_action(FASTER)\n",
    "state.show()"
   ]
  },
  {
   "cell_type": "code",
   "execution_count": 246,
   "metadata": {},
   "outputs": [
    {
     "data": {
      "text/plain": [
       "'cell, x: -9 y: 17'"
      ]
     },
     "execution_count": 246,
     "metadata": {},
     "output_type": "execute_result"
    }
   ],
   "source": [
    "state.ship.prow.to_string()"
   ]
  },
  {
   "cell_type": "code",
   "execution_count": 247,
   "metadata": {},
   "outputs": [
    {
     "data": {
      "text/plain": [
       "True"
      ]
     },
     "execution_count": 247,
     "metadata": {},
     "output_type": "execute_result"
    }
   ],
   "source": [
    "state.ship.prow.is_in_map()"
   ]
  },
  {
   "cell_type": "code",
   "execution_count": 21,
   "metadata": {},
   "outputs": [
    {
     "data": {
      "text/plain": [
       "{(5, 18): 20,\n",
       " (13, 2): 20,\n",
       " (9, 10): 20,\n",
       " (4, 8): 20,\n",
       " (2, 12): 20,\n",
       " (0, 17): 20,\n",
       " (7, 3): 20,\n",
       " (4, 14): 20,\n",
       " (8, 6): 20,\n",
       " (14, 2): 20,\n",
       " (6, 18): 20,\n",
       " (15, 10): 20,\n",
       " (11, 1): 20,\n",
       " (2, 19): 20,\n",
       " (1, 16): 20,\n",
       " (7, 4): 20,\n",
       " (10, 7): 20,\n",
       " (7, 13): 20}"
      ]
     },
     "execution_count": 21,
     "metadata": {},
     "output_type": "execute_result"
    }
   ],
   "source": [
    "state.rums"
   ]
  },
  {
   "cell_type": "code",
   "execution_count": null,
   "metadata": {},
   "outputs": [],
   "source": [
    "for cell in state.ship.get_cells():\n",
    "    print(cell.to_string())"
   ]
  },
  {
   "cell_type": "code",
   "execution_count": null,
   "metadata": {},
   "outputs": [],
   "source": [
    "state._is_free_of_ship(0, 17)"
   ]
  },
  {
   "cell_type": "code",
   "execution_count": null,
   "metadata": {},
   "outputs": [],
   "source": [
    "print(state.ship.to_string())\n",
    "for y in range(21):\n",
    "    for x in range(23):\n",
    "        print(state.map[x][y][0], end='')\n",
    "    print()"
   ]
  },
  {
   "cell_type": "code",
   "execution_count": 26,
   "metadata": {},
   "outputs": [
    {
     "name": "stdout",
     "output_type": "stream",
     "text": [
      "Ship, x: 19, y: 4, speed: 0, cap: 1, rum:44\n",
      "11111111111111111111111111111\n",
      "11111111111111111111111111111\n",
      "11111111111111111111111111111\n",
      "11100000000000000000000000111\n",
      "11100000000000000000000000111\n",
      "11100000000000000000000000111\n",
      "11100000000000000000000000111\n",
      "11100000000000000000000000111\n",
      "11100000000000000000000000111\n",
      "11100000000000000000000000111\n",
      "11100000000000000000000000111\n",
      "11100000000000000000000000111\n",
      "11100000000000000000000000111\n",
      "11100000000000000000000000111\n",
      "11100000000000000000000000111\n",
      "11100000000000000000000000111\n",
      "11100000000000000000000000111\n",
      "11100000000000000000000000111\n",
      "11100000000000000000000000111\n",
      "11100000000000000000000000111\n",
      "11100000000000000000000000111\n",
      "11100000000000000000000000111\n",
      "11100000000000000000000000111\n",
      "11100000000000000000000000111\n",
      "11111111111111111111111111111\n",
      "11111111111111111111111111111\n",
      "11111111111111111111111111111\n"
     ]
    }
   ],
   "source": [
    "print(state.ship.to_string())\n",
    "for y in range(21 + 3*2):\n",
    "    for x in range(23 + 3*2):\n",
    "        print(state.map[x][y][3], end='')\n",
    "    print()"
   ]
  },
  {
   "cell_type": "code",
   "execution_count": null,
   "metadata": {},
   "outputs": [],
   "source": [
    "state.show()"
   ]
  },
  {
   "cell_type": "code",
   "execution_count": null,
   "metadata": {},
   "outputs": [],
   "source": [
    "state.apply_action(action=PORT)"
   ]
  },
  {
   "cell_type": "code",
   "execution_count": null,
   "metadata": {},
   "outputs": [],
   "source": [
    "state.apply_action(action=FASTER)\n",
    "state.show()"
   ]
  },
  {
   "cell_type": "code",
   "execution_count": null,
   "metadata": {},
   "outputs": [],
   "source": []
  },
  {
   "cell_type": "code",
   "execution_count": null,
   "metadata": {},
   "outputs": [],
   "source": []
  }
 ],
 "metadata": {
  "kernelspec": {
   "display_name": "Python 3",
   "language": "python",
   "name": "python3"
  },
  "language_info": {
   "codemirror_mode": {
    "name": "ipython",
    "version": 3
   },
   "file_extension": ".py",
   "mimetype": "text/x-python",
   "name": "python",
   "nbconvert_exporter": "python",
   "pygments_lexer": "ipython3",
   "version": "3.6.9"
  }
 },
 "nbformat": 4,
 "nbformat_minor": 4
}
